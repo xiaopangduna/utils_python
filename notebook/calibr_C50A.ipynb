{
 "cells": [
  {
   "cell_type": "code",
   "execution_count": 3,
   "metadata": {},
   "outputs": [],
   "source": [
    "import cv2\n",
    "from pathlib import Path\n",
    "\n",
    "img_path = Path(\n",
    "    r\"/home/ubuntu/桌面/project/c50a_calibrator/datasets/calibr_c50A/frame_1744866517429.jpg\"\n",
    ")\n",
    "img = cv2.imread(str(img_path))"
   ]
  },
  {
   "cell_type": "code",
   "execution_count": 4,
   "metadata": {},
   "outputs": [],
   "source": [
    "gray = cv2.cvtColor(img, cv2.COLOR_BGR2GRAY)\n",
    "cv2.imwrite(\"gray.jpg\", gray)\n",
    "board_size = (5, 6)\n",
    "ret, corners = cv2.findChessboardCorners(gray, board_size, None)"
   ]
  },
  {
   "cell_type": "code",
   "execution_count": 3,
   "metadata": {},
   "outputs": [
    {
     "name": "stdout",
     "output_type": "stream",
     "text": [
      "[[[221.99847 303.43433]]\n",
      "\n",
      " [[266.64038 303.10632]]\n",
      "\n",
      " [[311.56973 302.48215]]\n",
      "\n",
      " [[357.20752 302.30386]]\n",
      "\n",
      " [[402.35828 301.51172]]\n",
      "\n",
      " [[211.4727  325.93433]]\n",
      "\n",
      " [[259.63907 325.42072]]\n",
      "\n",
      " [[307.59128 325.46448]]\n",
      "\n",
      " [[357.219   325.3133 ]]\n",
      "\n",
      " [[405.91766 324.63037]]\n",
      "\n",
      " [[198.48196 353.08826]]\n",
      "\n",
      " [[251.10506 352.38324]]\n",
      "\n",
      " [[303.55792 351.6766 ]]\n",
      "\n",
      " [[357.39755 351.52   ]]\n",
      "\n",
      " [[410.4457  351.50043]]\n",
      "\n",
      " [[183.47038 384.7127 ]]\n",
      "\n",
      " [[241.19244 384.20966]]\n",
      "\n",
      " [[298.9871  384.11572]]\n",
      "\n",
      " [[357.0171  383.7118 ]]\n",
      "\n",
      " [[415.5542  383.61414]]\n",
      "\n",
      " [[165.24348 423.4248 ]]\n",
      "\n",
      " [[228.66281 423.35947]]\n",
      "\n",
      " [[292.7175  423.14243]]\n",
      "\n",
      " [[357.06613 423.29163]]\n",
      "\n",
      " [[421.6724  423.43008]]\n",
      "\n",
      " [[143.56717 469.90482]]\n",
      "\n",
      " [[213.5975  470.59808]]\n",
      "\n",
      " [[284.83887 471.20898]]\n",
      "\n",
      " [[357.35367 471.51266]]\n",
      "\n",
      " [[429.54318 471.51917]]]\n"
     ]
    }
   ],
   "source": [
    "print(corners)"
   ]
  },
  {
   "cell_type": "code",
   "execution_count": 4,
   "metadata": {},
   "outputs": [],
   "source": [
    "criteria = (cv2.TERM_CRITERIA_EPS + cv2.TERM_CRITERIA_MAX_ITER, 30, 0.001)\n",
    "win_size = (11, 11)\n",
    "zeroZone = (-1, -1)\n",
    "corners2 = cv2.cornerSubPix(gray, corners, win_size, zeroZone, criteria)"
   ]
  },
  {
   "cell_type": "code",
   "execution_count": 5,
   "metadata": {},
   "outputs": [
    {
     "name": "stdout",
     "output_type": "stream",
     "text": [
      "[[[222.09065 303.3973 ]]\n",
      "\n",
      " [[266.56256 303.035  ]]\n",
      "\n",
      " [[311.61142 302.5156 ]]\n",
      "\n",
      " [[357.13202 302.036  ]]\n",
      "\n",
      " [[402.42044 301.60345]]\n",
      "\n",
      " [[211.4312  325.8685 ]]\n",
      "\n",
      " [[259.60327 325.54428]]\n",
      "\n",
      " [[308.1962  325.4289 ]]\n",
      "\n",
      " [[357.11243 325.2422 ]]\n",
      "\n",
      " [[406.05603 324.72256]]\n",
      "\n",
      " [[198.70389 352.92563]]\n",
      "\n",
      " [[251.07881 352.40378]]\n",
      "\n",
      " [[303.72467 351.97784]]\n",
      "\n",
      " [[357.1679  351.65887]]\n",
      "\n",
      " [[410.44894 351.5587 ]]\n",
      "\n",
      " [[183.7162  384.66156]]\n",
      "\n",
      " [[241.11896 384.25955]]\n",
      "\n",
      " [[298.60498 383.98184]]\n",
      "\n",
      " [[357.09958 383.86343]]\n",
      "\n",
      " [[415.55844 383.71555]]\n",
      "\n",
      " [[165.37856 423.28223]]\n",
      "\n",
      " [[228.53647 423.231  ]]\n",
      "\n",
      " [[292.52304 423.10495]]\n",
      "\n",
      " [[357.1168  423.12595]]\n",
      "\n",
      " [[422.14868 423.30624]]\n",
      "\n",
      " [[143.02248 469.916  ]]\n",
      "\n",
      " [[213.24045 470.68802]]\n",
      "\n",
      " [[284.4202  471.18613]]\n",
      "\n",
      " [[357.15625 471.81625]]\n",
      "\n",
      " [[429.73462 471.5825 ]]]\n"
     ]
    }
   ],
   "source": [
    "print(corners2)"
   ]
  },
  {
   "cell_type": "code",
   "execution_count": 14,
   "metadata": {},
   "outputs": [],
   "source": [
    "import numpy as np\n",
    "\n",
    "objp = np.zeros((board_size[0] * board_size[1], 3), np.float32)\n",
    "objp[:, :2] = np.mgrid[0 : board_size[0], 0 : board_size[1]].T.reshape(-1, 2)\n",
    "\n",
    "# 定义棋盘格的尺寸和每个方格的大小（单位：米）\n",
    "board_height = 6  # 棋盘格的行数\n",
    "board_width = 5  # 棋盘格的列数\n",
    "square_size = 0.16  # 每个方格的边长，例如 2.5 厘米\n",
    "\n",
    "# 初始化一个空的列表，用于存储三维坐标点\n",
    "object_points = []\n",
    "\n",
    "# 生成棋盘格的三维坐标点\n",
    "for i in range(board_height):\n",
    "    for j in range(board_width):\n",
    "        # x = -i * square_size + 3.39-0.254\n",
    "        # y = -j * square_size + 0.543\n",
    "        x = -i * square_size + 1.60 + 0.03 + 6 * 0.16\n",
    "        y = -j * square_size + 0.264 - 0.16 + 0.2685\n",
    "        z = -0.07\n",
    "        object_points.append([x, y, z])\n",
    "\n",
    "# 将列表转换为 NumPy 数组，并指定数据类型为 float32\n",
    "object_points_array = np.array(object_points, dtype=np.float32)"
   ]
  },
  {
   "cell_type": "code",
   "execution_count": 15,
   "metadata": {},
   "outputs": [
    {
     "name": "stdout",
     "output_type": "stream",
     "text": [
      "[[ 2.59    0.3725 -0.07  ]\n",
      " [ 2.59    0.2125 -0.07  ]\n",
      " [ 2.59    0.0525 -0.07  ]\n",
      " [ 2.59   -0.1075 -0.07  ]\n",
      " [ 2.59   -0.2675 -0.07  ]\n",
      " [ 2.43    0.3725 -0.07  ]\n",
      " [ 2.43    0.2125 -0.07  ]\n",
      " [ 2.43    0.0525 -0.07  ]\n",
      " [ 2.43   -0.1075 -0.07  ]\n",
      " [ 2.43   -0.2675 -0.07  ]\n",
      " [ 2.27    0.3725 -0.07  ]\n",
      " [ 2.27    0.2125 -0.07  ]\n",
      " [ 2.27    0.0525 -0.07  ]\n",
      " [ 2.27   -0.1075 -0.07  ]\n",
      " [ 2.27   -0.2675 -0.07  ]\n",
      " [ 2.11    0.3725 -0.07  ]\n",
      " [ 2.11    0.2125 -0.07  ]\n",
      " [ 2.11    0.0525 -0.07  ]\n",
      " [ 2.11   -0.1075 -0.07  ]\n",
      " [ 2.11   -0.2675 -0.07  ]\n",
      " [ 1.95    0.3725 -0.07  ]\n",
      " [ 1.95    0.2125 -0.07  ]\n",
      " [ 1.95    0.0525 -0.07  ]\n",
      " [ 1.95   -0.1075 -0.07  ]\n",
      " [ 1.95   -0.2675 -0.07  ]\n",
      " [ 1.79    0.3725 -0.07  ]\n",
      " [ 1.79    0.2125 -0.07  ]\n",
      " [ 1.79    0.0525 -0.07  ]\n",
      " [ 1.79   -0.1075 -0.07  ]\n",
      " [ 1.79   -0.2675 -0.07  ]]\n"
     ]
    }
   ],
   "source": [
    "print(object_points_array)"
   ]
  },
  {
   "cell_type": "code",
   "execution_count": 32,
   "metadata": {},
   "outputs": [
    {
     "name": "stdout",
     "output_type": "stream",
     "text": [
      "[[0. 0. 0.]\n",
      " [1. 0. 0.]\n",
      " [2. 0. 0.]\n",
      " [3. 0. 0.]\n",
      " [4. 0. 0.]\n",
      " [0. 1. 0.]\n",
      " [1. 1. 0.]\n",
      " [2. 1. 0.]\n",
      " [3. 1. 0.]\n",
      " [4. 1. 0.]\n",
      " [0. 2. 0.]\n",
      " [1. 2. 0.]\n",
      " [2. 2. 0.]\n",
      " [3. 2. 0.]\n",
      " [4. 2. 0.]\n",
      " [0. 3. 0.]\n",
      " [1. 3. 0.]\n",
      " [2. 3. 0.]\n",
      " [3. 3. 0.]\n",
      " [4. 3. 0.]\n",
      " [0. 4. 0.]\n",
      " [1. 4. 0.]\n",
      " [2. 4. 0.]\n",
      " [3. 4. 0.]\n",
      " [4. 4. 0.]\n",
      " [0. 5. 0.]\n",
      " [1. 5. 0.]\n",
      " [2. 5. 0.]\n",
      " [3. 5. 0.]\n",
      " [4. 5. 0.]]\n"
     ]
    }
   ],
   "source": [
    "print(objp)"
   ]
  },
  {
   "cell_type": "code",
   "execution_count": 33,
   "metadata": {},
   "outputs": [],
   "source": [
    "objp = object_points_array\n",
    "fx = 571\n",
    "fy = 571\n",
    "cx = 332.729\n",
    "cy = 231.085\n",
    "distortion_coefficients = np.array([0, 0, 0, 0, 0])\n",
    "camera_matrix = np.array(\n",
    "    [[fx, 0, cx], [0, fy, cy], [0, 0, 1]]\n",
    ")  # fx, fy, cx, cy 分别为焦距和主点坐标\n",
    "# 世界到相机\n",
    "success, rvec, tvec = cv2.solvePnP(\n",
    "    objp, corners2, camera_matrix, distortion_coefficients\n",
    ")"
   ]
  },
  {
   "cell_type": "code",
   "execution_count": 34,
   "metadata": {},
   "outputs": [
    {
     "name": "stdout",
     "output_type": "stream",
     "text": [
      "[[ 1.46924231]\n",
      " [-1.44260286]\n",
      " [ 0.96573964]]\n"
     ]
    }
   ],
   "source": [
    "print(rvec)"
   ]
  },
  {
   "cell_type": "code",
   "execution_count": 35,
   "metadata": {},
   "outputs": [
    {
     "name": "stdout",
     "output_type": "stream",
     "text": [
      "[[ 0.01136425]\n",
      " [ 1.43846152]\n",
      " [-1.16591992]]\n"
     ]
    }
   ],
   "source": [
    "print(tvec)"
   ]
  },
  {
   "cell_type": "code",
   "execution_count": 36,
   "metadata": {},
   "outputs": [],
   "source": [
    "R, _ = cv2.Rodrigues(rvec)"
   ]
  },
  {
   "cell_type": "code",
   "execution_count": 37,
   "metadata": {},
   "outputs": [
    {
     "name": "stdout",
     "output_type": "stream",
     "text": [
      "[[ 0.0404258  -0.9986721  -0.03193429]\n",
      " [-0.35103855  0.01572768 -0.93622891]\n",
      " [ 0.93548794  0.04905797 -0.3499366 ]]\n"
     ]
    }
   ],
   "source": [
    "print(R)"
   ]
  },
  {
   "cell_type": "code",
   "execution_count": 38,
   "metadata": {},
   "outputs": [],
   "source": [
    "P_w = np.array([[3.39], [0.543], [0]])  # 世界坐标 (0, 1, 2)\n",
    "P_c = np.dot(R, P_w) + tvec"
   ]
  },
  {
   "cell_type": "code",
   "execution_count": 39,
   "metadata": {},
   "outputs": [
    {
     "name": "stdout",
     "output_type": "stream",
     "text": [
      "[[-0.39387123]\n",
      " [ 0.25698095]\n",
      " [ 2.03202268]]\n"
     ]
    }
   ],
   "source": [
    "print(P_c)"
   ]
  },
  {
   "cell_type": "code",
   "execution_count": 40,
   "metadata": {},
   "outputs": [
    {
     "name": "stdout",
     "output_type": "stream",
     "text": [
      "[[571.      0.    332.729]\n",
      " [  0.    571.    231.085]\n",
      " [  0.      0.      1.   ]]\n",
      "[[451.21240589]\n",
      " [616.30608299]\n",
      " [  2.03202268]]\n"
     ]
    }
   ],
   "source": [
    "P_p = np.dot(camera_matrix, P_c)\n",
    "print(camera_matrix)\n",
    "print(P_p)"
   ]
  },
  {
   "cell_type": "code",
   "execution_count": 41,
   "metadata": {},
   "outputs": [
    {
     "name": "stdout",
     "output_type": "stream",
     "text": [
      "[222.05087056]\n",
      "[303.29685193]\n"
     ]
    }
   ],
   "source": [
    "K = camera_matrix\n",
    "u = (K[0, 0] * P_c[0] / P_c[2]) + K[0, 2]  # u 坐标\n",
    "v = (K[1, 1] * P_c[1] / P_c[2]) + K[1, 2]  # v 坐标\n",
    "print(u)\n",
    "print(v)"
   ]
  },
  {
   "cell_type": "code",
   "execution_count": 42,
   "metadata": {},
   "outputs": [],
   "source": [
    "def calibr_camera(img):\n",
    "    gray = cv2.cvtColor(img, cv2.COLOR_BGR2GRAY)\n",
    "    board_size = (5, 6)\n",
    "    ret, corners = cv2.findChessboardCorners(gray, board_size, None)\n",
    "    criteria = (cv2.TERM_CRITERIA_EPS + cv2.TERM_CRITERIA_MAX_ITER, 30, 0.001)\n",
    "    win_size = (11, 11)\n",
    "    zeroZone = (-1, -1)\n",
    "    corners2 = cv2.cornerSubPix(gray, corners, win_size, zeroZone, criteria)\n",
    "    points = []\n",
    "    for i in range(corners2.shape[0]):\n",
    "        point = tuple(corners2[i, 0])  # 提取 (x, y) 坐标\n",
    "        points.append(point)  # 将坐标存储到列表中\n",
    "    return points"
   ]
  },
  {
   "cell_type": "code",
   "execution_count": 43,
   "metadata": {},
   "outputs": [],
   "source": [
    "res = calibr_camera(img)"
   ]
  },
  {
   "cell_type": "code",
   "execution_count": 44,
   "metadata": {},
   "outputs": [
    {
     "name": "stdout",
     "output_type": "stream",
     "text": [
      "[(222.09065, 303.3973), (266.56256, 303.035), (311.61142, 302.5156), (357.13202, 302.036), (402.42044, 301.60345), (211.4312, 325.8685), (259.60327, 325.54428), (308.1962, 325.4289), (357.11243, 325.2422), (406.05603, 324.72256), (198.70389, 352.92563), (251.07881, 352.40378), (303.72467, 351.97784), (357.1679, 351.65887), (410.44894, 351.5587), (183.7162, 384.66156), (241.11896, 384.25955), (298.60498, 383.98184), (357.09958, 383.86343), (415.55844, 383.71555), (165.37856, 423.28223), (228.53647, 423.231), (292.52304, 423.10495), (357.1168, 423.12595), (422.14868, 423.30624), (143.02248, 469.916), (213.24045, 470.68802), (284.4202, 471.18613), (357.15625, 471.81625), (429.73462, 471.5825)]\n"
     ]
    }
   ],
   "source": [
    "print(res)"
   ]
  },
  {
   "cell_type": "code",
   "execution_count": 45,
   "metadata": {},
   "outputs": [
    {
     "name": "stdout",
     "output_type": "stream",
     "text": [
      "(30, 1, 2)\n"
     ]
    }
   ],
   "source": [
    "print(corners2.shape)"
   ]
  },
  {
   "cell_type": "code",
   "execution_count": 46,
   "metadata": {},
   "outputs": [],
   "source": [
    "def pixel_to_world(u, v, K, R, t):\n",
    "    fx, fy = K[0, 0], K[1, 1]\n",
    "    cx, cy = K[0, 2], K[1, 2]\n",
    "    r11, r12, r13 = R[0]\n",
    "    r21, r22, r23 = R[1]\n",
    "    r31, r32, r33 = R[2]\n",
    "    tx, ty, tz = t\n",
    "\n",
    "    # 构造系数矩阵\n",
    "    A1 = u * r31 - fx * r11 - cx * r31\n",
    "    B1 = u * r32 - fx * r12 - cx * r32\n",
    "    C1 = fx * tx + cx * tz - u * tz\n",
    "\n",
    "    A2 = v * r31 - fy * r21 - cy * r31\n",
    "    B2 = v * r32 - fy * r22 - cy * r32\n",
    "    C2 = fy * ty + cy * tz - v * tz\n",
    "\n",
    "    # 解线性方程组\n",
    "    denominator = A1 * B2 - A2 * B1\n",
    "    if denominator == 0:\n",
    "        return None  # 无解或无穷解\n",
    "    X = (B1 * C2 - B2 * C1) / denominator\n",
    "    Y = (A2 * C1 - A1 * C2) / denominator\n",
    "    return (X, Y, 0)"
   ]
  },
  {
   "cell_type": "code",
   "execution_count": 26,
   "metadata": {},
   "outputs": [],
   "source": [
    "# 266.56256,303.035\n",
    "# 250.95315708,352.51293594\n",
    "p_world = pixel_to_world(266.56256, 303.035, K, R, tvec)"
   ]
  },
  {
   "cell_type": "code",
   "execution_count": 47,
   "metadata": {},
   "outputs": [
    {
     "name": "stdout",
     "output_type": "stream",
     "text": [
      "(array([3.42248283]), array([-1.94705788]), 0.0)\n"
     ]
    }
   ],
   "source": [
    "print(p_world)"
   ]
  },
  {
   "cell_type": "code",
   "execution_count": 48,
   "metadata": {},
   "outputs": [],
   "source": [
    "import numpy as np\n",
    "\n",
    "\n",
    "def pixel_to_world(u, v, K, R, t):\n",
    "    fx, fy = K[0, 0], K[1, 1]\n",
    "    cx, cy = K[0, 2], K[1, 2]\n",
    "    r11, r12, r13 = R[0, 0], R[0, 1], R[0, 2]\n",
    "    r21, r22, r23 = R[1, 0], R[1, 1], R[1, 2]\n",
    "    r31, r32, r33 = R[2, 0], R[2, 1], R[2, 2]\n",
    "    tx, ty, tz = t[0], t[1], t[2]\n",
    "\n",
    "    # 构造系数矩阵（注意符号一致性）\n",
    "    A1 = (u - cx) * r31 - fx * r11\n",
    "    B1 = (u - cx) * r32 - fx * r12\n",
    "    C1 = fx * tx + (cx - u) * tz\n",
    "\n",
    "    A2 = (v - cy) * r31 - fy * r21\n",
    "    B2 = (v - cy) * r32 - fy * r22\n",
    "    C2 = fy * ty + (cy - v) * tz\n",
    "\n",
    "    # 解线性方程组 AX = B\n",
    "    A = np.array([[A1, B1], [A2, B2]])\n",
    "    B = np.array([C1, C2])\n",
    "    try:\n",
    "        X, Y = np.linalg.solve(A, B)\n",
    "    except np.linalg.LinAlgError:\n",
    "        return None  # 矩阵奇异或无解\n",
    "\n",
    "    # 检查地平面点是否在相机前方\n",
    "    denominator = r31 * X + r32 * Y + tz\n",
    "    if denominator <= 0:\n",
    "        return None  # 点在相机后方或投影无效\n",
    "\n",
    "    return (X, Y, 0.0)"
   ]
  },
  {
   "cell_type": "code",
   "execution_count": 53,
   "metadata": {},
   "outputs": [
    {
     "name": "stdout",
     "output_type": "stream",
     "text": [
      "(array([3.38938778]), array([0.22322936]), 0.0)\n"
     ]
    }
   ],
   "source": [
    "# [222.05087056]\n",
    "# [303.29685193]\n",
    "# [[266.56256 303.035  ]]\n",
    "#  [[311.61142 302.5156 ]]\n",
    "p_world = pixel_to_world(311.61142, 302.5156, K, R, tvec)\n",
    "print(p_world)"
   ]
  },
  {
   "cell_type": "code",
   "execution_count": 5,
   "metadata": {},
   "outputs": [],
   "source": [
    "object_points = [\n",
    "    [160 + 57, 80 - 24.5, 0],\n",
    "    [4 * 80 - 8, 80 + 45.6, 0],\n",
    "    [5 * 80 + 20.6, 80 + 49.5, 0],\n",
    "    [7 * 80 + 16, 80 + 19, 0],\n",
    "    [7 * 80 + 33, -5, 0],\n",
    "    [7 * 80 + 33, -50, 0],\n",
    "    [7 * 80 + 34, -80 - 74, 0],\n",
    "    [5 * 80 + 5, -31, 0],\n",
    "    [4 * 80 + 22.6, -72.6, 0],\n",
    "    [3 * 80 + 40, -31.5, 0],\n",
    "]"
   ]
  },
  {
   "cell_type": "code",
   "execution_count": 6,
   "metadata": {},
   "outputs": [
    {
     "name": "stdout",
     "output_type": "stream",
     "text": [
      "[[2.17, 0.8235, -0.07], [3.12, 1.5245, -0.07], [4.206, 1.5635, -0.07], [5.76, 1.2585, -0.07], [5.93, 0.21850000000000003, -0.07], [5.93, -0.23149999999999998, -0.07], [5.94, -1.2715, -0.07], [4.05, -0.04149999999999999, -0.07], [3.426, -0.45749999999999996, -0.07], [2.8000000000000003, -0.046499999999999986, -0.07]]\n"
     ]
    }
   ],
   "source": [
    "for i in range(len(object_points)):\n",
    "    point = object_points[i]\n",
    "    point[0] = point[0]\n",
    "    point[1] = point[1] + 26.85\n",
    "    point[2] = point[2] - 7\n",
    "for i in range(len(object_points)):\n",
    "    point = object_points[i]\n",
    "    point[0] = point[0] * 0.01\n",
    "    point[1] = point[1] * 0.01\n",
    "    point[2] = point[2] * 0.01\n",
    "print(object_points)"
   ]
  },
  {
   "cell_type": "code",
   "execution_count": 8,
   "metadata": {},
   "outputs": [
    {
     "name": "stdout",
     "output_type": "stream",
     "text": [
      "[2.548, 0.4685, -0.07]\n",
      "[2.548, -0.4315, -0.07]\n",
      "[1.6500000000000001, 0.4685, -0.07]\n",
      "[1.6500000000000001, -0.4315, -0.07]\n",
      "[4.15, -0.3815, -0.07]\n",
      "[4.15, -1.2815, -0.07]\n",
      "[3.25, -0.3815, -0.07]\n",
      "[3.25, -1.2815, -0.07]\n",
      "[5.6000000000000005, 2.2685, -0.07]\n",
      "[5.6000000000000005, 1.3725, -0.07]\n",
      "[5.6000000000000005, 0.5685, -0.07]\n",
      "[5.6000000000000005, -0.3315, -0.07]\n",
      "[5.6000000000000005, -1.0835, -0.07]\n",
      "[5.6000000000000005, -1.9815, -0.07]\n",
      "[[2.548, 0.4685, -0.07], [2.548, -0.4315, -0.07], [1.6500000000000001, 0.4685, -0.07], [1.6500000000000001, -0.4315, -0.07], [4.15, -0.3815, -0.07], [4.15, -1.2815, -0.07], [3.25, -0.3815, -0.07], [3.25, -1.2815, -0.07], [5.6000000000000005, 2.2685, -0.07], [5.6000000000000005, 1.3725, -0.07], [5.6000000000000005, 0.5685, -0.07], [5.6000000000000005, -0.3315, -0.07], [5.6000000000000005, -1.0835, -0.07], [5.6000000000000005, -1.9815, -0.07]]\n"
     ]
    }
   ],
   "source": [
    "object_points = [\n",
    "    [254.8, 20, 0],\n",
    "    [254.8, -70, 0],\n",
    "    [165, 20, 0],\n",
    "    [165, -70, 0],\n",
    "    [415, -65, 0],\n",
    "    [415, -155, 0],\n",
    "    [325, -65, 0],\n",
    "    [325, -155, 0],\n",
    "    [560, 200, 0],\n",
    "    [560, 110.4, 0],\n",
    "    [560, 30, 0],\n",
    "    [560, -60, 0],\n",
    "    [560, -135.2, 0],\n",
    "    [560, -225, 0],\n",
    "]\n",
    "for i in range(len(object_points)):\n",
    "    point = object_points[i]\n",
    "    point[0] = point[0]\n",
    "    point[1] = point[1] + 26.85\n",
    "    point[2] = point[2] - 7\n",
    "for i in range(len(object_points)):\n",
    "    point = object_points[i]\n",
    "    point[0] = point[0] * 0.01\n",
    "    point[1] = point[1] * 0.01\n",
    "    point[2] = point[2] * 0.01\n",
    "    print(point)\n",
    "print(object_points)"
   ]
  },
  {
   "cell_type": "code",
   "execution_count": 9,
   "metadata": {},
   "outputs": [
    {
     "name": "stdout",
     "output_type": "stream",
     "text": [
      "[2.548, 0.4685, -0.07]\n",
      "[2.548, -0.4315, -0.07]\n",
      "[1.6500000000000001, -0.4315, -0.07]\n",
      "[1.6500000000000001, 0.4685, -0.07]\n",
      "[4.15, -0.3815, -0.07]\n",
      "[4.15, -1.2815, -0.07]\n",
      "[3.25, -1.2815, -0.07]\n",
      "[3.25, -0.3815, -0.07]\n",
      "[4.146, 1.3185, -0.07]\n",
      "[4.146, 0.41850000000000004, -0.07]\n",
      "[3.25, 0.41850000000000004, -0.07]\n",
      "[3.25, 1.3185, -0.07]\n",
      "[5.6000000000000005, 2.2185, 0.8300000000000001]\n",
      "[5.6000000000000005, 1.3185, 0.8300000000000001]\n",
      "[5.6000000000000005, 1.3185, -0.07]\n",
      "[5.6000000000000005, 2.2185, -0.07]\n",
      "[5.6000000000000005, 0.5185000000000001, 0.8300000000000001]\n",
      "[5.6000000000000005, -0.3715, 0.8300000000000001]\n",
      "[5.6000000000000005, -0.3715, -0.07]\n",
      "[5.6000000000000005, 0.5185000000000001, -0.07]\n",
      "[5.6000000000000005, -1.0815000000000001, 0.8300000000000001]\n",
      "[5.6000000000000005, -1.9815, 0.8300000000000001]\n",
      "[5.6000000000000005, -1.9815, -0.07]\n",
      "[5.6000000000000005, -1.0815000000000001, -0.07]\n",
      "[[2.548, 0.4685, -0.07], [2.548, -0.4315, -0.07], [1.6500000000000001, -0.4315, -0.07], [1.6500000000000001, 0.4685, -0.07], [4.15, -0.3815, -0.07], [4.15, -1.2815, -0.07], [3.25, -1.2815, -0.07], [3.25, -0.3815, -0.07], [4.146, 1.3185, -0.07], [4.146, 0.41850000000000004, -0.07], [3.25, 0.41850000000000004, -0.07], [3.25, 1.3185, -0.07], [5.6000000000000005, 2.2185, 0.8300000000000001], [5.6000000000000005, 1.3185, 0.8300000000000001], [5.6000000000000005, 1.3185, -0.07], [5.6000000000000005, 2.2185, -0.07], [5.6000000000000005, 0.5185000000000001, 0.8300000000000001], [5.6000000000000005, -0.3715, 0.8300000000000001], [5.6000000000000005, -0.3715, -0.07], [5.6000000000000005, 0.5185000000000001, -0.07], [5.6000000000000005, -1.0815000000000001, 0.8300000000000001], [5.6000000000000005, -1.9815, 0.8300000000000001], [5.6000000000000005, -1.9815, -0.07], [5.6000000000000005, -1.0815000000000001, -0.07]]\n"
     ]
    }
   ],
   "source": [
    "object_points = [\n",
    "    [254.8, 20, 0],\n",
    "    [254.8, -70, 0],\n",
    "    [165, -70, 0],\n",
    "    [165, 20, 0],\n",
    "\n",
    "    [415, -65, 0],\n",
    "    [415, -155, 0],\n",
    "    [325, -155, 0],\n",
    "    [325, -65, 0],\n",
    "\n",
    "    [414.6,105, 0],\n",
    "    [414.6 ,15, 0],\n",
    "    [325, 15, 0],\n",
    "    [325, 105, 0],\n",
    "\n",
    "    [560, 195, 90],\n",
    "    [560, 105, 90],\n",
    "    [560, 105, 0],\n",
    "    [560, 195, 0],\n",
    "\n",
    "    [560, 25, 90],\n",
    "    [560, -64, 90],\n",
    "    [560, -64, 0],\n",
    "    [560, 25, 0],\n",
    "\n",
    "    [560, -135, 90],\n",
    "    [560, -225, 90],\n",
    "    [560, -225, 0],\n",
    "    [560, -135, 0],\n",
    "]\n",
    "for i in range(len(object_points)):\n",
    "    point = object_points[i]\n",
    "    point[0] = point[0]\n",
    "    point[1] = point[1] + 26.85\n",
    "    point[2] = point[2] - 7\n",
    "for i in range(len(object_points)):\n",
    "    point = object_points[i]\n",
    "    point[0] = point[0] * 0.01\n",
    "    point[1] = point[1] * 0.01\n",
    "    point[2] = point[2] * 0.01\n",
    "    print(point)\n",
    "print(object_points)"
   ]
  }
 ],
 "metadata": {
  "kernelspec": {
   "display_name": "py310_utils",
   "language": "python",
   "name": "python3"
  },
  "language_info": {
   "codemirror_mode": {
    "name": "ipython",
    "version": 3
   },
   "file_extension": ".py",
   "mimetype": "text/x-python",
   "name": "python",
   "nbconvert_exporter": "python",
   "pygments_lexer": "ipython3",
   "version": "3.10.16"
  }
 },
 "nbformat": 4,
 "nbformat_minor": 2
}
