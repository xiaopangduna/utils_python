{
 "cells": [
  {
   "cell_type": "code",
   "execution_count": 1,
   "id": "aa316613",
   "metadata": {},
   "outputs": [],
   "source": [
    "import numpy as np\n",
    "from scipy.spatial.transform import Rotation as R\n",
    "\n",
    "def is_equivalent_transform(euler1, t1, euler2, t2, atol=1e-6):\n",
    "    \"\"\"\n",
    "    判断两组 [欧拉角 + 平移向量] 是否表示同一个外参变换\n",
    "\n",
    "    参数:\n",
    "    - euler1, euler2: shape=(3,), 欧拉角，ZYX顺序，单位：弧度\n",
    "    - t1, t2: shape=(3,), 平移向量\n",
    "    - atol: 容差（默认1e-6）\n",
    "\n",
    "    返回:\n",
    "    - bool: True 表示等价，False 表示不同\n",
    "    \"\"\"\n",
    "\n",
    "    # ZYX 顺序：先绕 X，后绕 Y，再绕 Z\n",
    "    rot1 = R.from_euler('zyx', euler1)\n",
    "    rot2 = R.from_euler('zyx', euler2)\n",
    "\n",
    "    R1 = rot1.as_matrix()\n",
    "    R2 = rot2.as_matrix()\n",
    "\n",
    "    # 比较旋转和平移是否一致（考虑浮点误差）\n",
    "    same_rotation = np.allclose(R1, R2, atol=atol)\n",
    "    same_translation = np.allclose(t1, t2, atol=atol)\n",
    "\n",
    "    return same_rotation and same_translation\n"
   ]
  },
  {
   "cell_type": "code",
   "execution_count": 6,
   "id": "a9202caa",
   "metadata": {},
   "outputs": [],
   "source": [
    "def is_equivalent_transform_deg(euler_deg1, t1, euler_deg2, t2, atol_deg=5, atol_trans=0.3):\n",
    "    \"\"\"\n",
    "    判断两组 [欧拉角(角度) + 平移向量] 是否表示同一个外参变换\n",
    "\n",
    "    参数:\n",
    "    - euler_deg1, euler_deg2: shape=(3,), 欧拉角（ZYX顺序，单位：度）\n",
    "    - t1, t2: shape=(3,), 平移向量\n",
    "    - atol_deg: 角度容差（默认 1e-3 度）\n",
    "    - atol_trans: 平移容差（默认 1e-6 米）\n",
    "\n",
    "    返回:\n",
    "    - bool: True 表示等价，False 表示不同\n",
    "    \"\"\"\n",
    "\n",
    "    # 构造旋转矩阵（从角度）\n",
    "    rot1 = R.from_euler('xyz', euler_deg1, degrees=True)\n",
    "    rot2 = R.from_euler('xyz', euler_deg2, degrees=True)\n",
    "\n",
    "    R1 = rot1.as_matrix()\n",
    "    R2 = rot2.as_matrix()\n",
    "\n",
    "    # 比较旋转矩阵是否一致（使用角度容差近似）\n",
    "    same_rotation = np.allclose(R1, R2, atol=np.sin(np.deg2rad(atol_deg)))\n",
    "    same_translation = np.allclose(t1, t2, atol=atol_trans)\n",
    "\n",
    "    return same_rotation and same_translation"
   ]
  },
  {
   "cell_type": "code",
   "execution_count": null,
   "id": "42602838",
   "metadata": {},
   "outputs": [],
   "source": []
  },
  {
   "cell_type": "code",
   "execution_count": 9,
   "id": "5dc1f423",
   "metadata": {},
   "outputs": [
    {
     "name": "stdout",
     "output_type": "stream",
     "text": [
      "False\n"
     ]
    }
   ],
   "source": [
    "euler_deg1 = np.array([69.41797658585301, 179.8261575509262, 89.94677790440619])\n",
    "t1 = np.array([0.4672740459251404, -0.077, 0.91])\n",
    "\n",
    "euler_deg2 = np.array([13.074538, 106.868965, -102.851486])  # 370° 与 10° 等价（多圈）\n",
    "t2 = np.array([ 0.228194, 1.865215, -1.795097])\n",
    "\n",
    "print(is_equivalent_transform_deg(euler_deg1, t1, euler_deg2, t2,100,3))  # 输出 True\n"
   ]
  },
  {
   "cell_type": "code",
   "execution_count": 14,
   "id": "e983e59a",
   "metadata": {},
   "outputs": [],
   "source": [
    "import numpy as np\n",
    "from scipy.spatial.transform import Rotation as R\n",
    "\n",
    "def print_rt_decomposition(rt_matrix: np.ndarray):\n",
    "    \"\"\"\n",
    "    输出一个 4x4 RT 矩阵在多个旋转顺序下的欧拉角（角度）和平移向量。\n",
    "    \"\"\"\n",
    "    assert rt_matrix.shape == (4, 4), \"输入必须是 4x4 的变换矩阵\"\n",
    "\n",
    "    rotation_matrix = rt_matrix[:3, :3]\n",
    "    translation = rt_matrix[:3, 3]\n",
    "    r = R.from_matrix(rotation_matrix)\n",
    "\n",
    "    orders = ['xyz', 'zyx', 'yxz', 'zxy', 'yzx', 'xzy']\n",
    "\n",
    "    print(f\"\\n=== Translation Vector ===\\n[x, y, z] = {translation}\\n\")\n",
    "\n",
    "    for order in orders:\n",
    "        try:\n",
    "            euler_deg = r.as_euler(order, degrees=True)\n",
    "            print(f\"--- Rotation Order: {order.upper()} ---\")\n",
    "            print(f\"Euler angles (deg) [X, Y, Z] = {euler_deg}\\n\")\n",
    "        except ValueError:\n",
    "            print(f\"--- Rotation Order: {order.upper()} ---\")\n",
    "            print(\"Euler angles not defined due to singularity.\\n\")\n"
   ]
  },
  {
   "cell_type": "code",
   "execution_count": 15,
   "id": "70644502",
   "metadata": {},
   "outputs": [
    {
     "name": "stdout",
     "output_type": "stream",
     "text": [
      "\n",
      "=== Translation Vector ===\n",
      "[x, y, z] = [ 0.402355 -0.072086  0.87738 ]\n",
      "\n",
      "--- Rotation Order: XYZ ---\n",
      "Euler angles (deg) [X, Y, Z] = [-106.42060243    0.7572369   -86.29900318]\n",
      "\n",
      "--- Rotation Order: ZYX ---\n",
      "Euler angles (deg) [X, Y, Z] = [  77.14853579   73.13101238 -166.92546806]\n",
      "\n",
      "--- Rotation Order: YXZ ---\n",
      "Euler angles (deg) [X, Y, Z] = [177.32307627 -73.562427    91.13333313]\n",
      "\n",
      "--- Rotation Order: ZXY ---\n",
      "Euler angles (deg) [X, Y, Z] = [-90.32137379  -3.76388828 106.4556277 ]\n",
      "\n",
      "--- Rotation Order: YZX ---\n",
      "Euler angles (deg) [X, Y, Z] = [ 86.14146179  16.43426619 -90.33434022]\n",
      "\n",
      "--- Rotation Order: XZY ---\n",
      "Euler angles (deg) [X, Y, Z] = [-94.87326118 -86.2224363   11.57180682]\n",
      "\n"
     ]
    }
   ],
   "source": [
    "rt = np.array([\n",
    "    [0.064544, -0.282915 ,0.956971 ,0.402355],\n",
    "    [-0.997827 ,-0.005597 ,0.065645 ,-0.072086],\n",
    "    [-0.013216 ,-0.959129 ,-0.282662, 0.877380],\n",
    "    [0,  0, 0, 1]\n",
    "])\n",
    "\n",
    "print_rt_decomposition(rt)\n"
   ]
  },
  {
   "cell_type": "code",
   "execution_count": null,
   "id": "26ed53a2",
   "metadata": {},
   "outputs": [],
   "source": [
    "from scipy.spatial.transform import Rotation as R\n",
    "import numpy as np\n",
    "\n",
    "euler_deg1 = [30, 45, 60]  # XYZ 顺序，单位：度\n",
    "rot1 = R.from_euler('xyz', euler_deg1, degrees=True)\n",
    "rotation_matrix = rot1.as_matrix()  # 得到3x3旋转矩阵\n",
    "\n",
    "print(rotation_matrix)"
   ]
  },
  {
   "cell_type": "code",
   "execution_count": 16,
   "id": "1874d212",
   "metadata": {},
   "outputs": [],
   "source": [
    "import numpy as np\n",
    "from scipy.spatial.transform import Rotation as R\n",
    "\n",
    "def euler_to_rt_matrix(euler_deg, translation, order):\n",
    "    rot = R.from_euler(order, euler_deg, degrees=True)\n",
    "    rt = np.eye(4)\n",
    "    rt[:3, :3] = rot.as_matrix()\n",
    "    rt[:3, 3] = translation\n",
    "    return rt\n",
    "\n",
    "def compare_rt_with_all_orders(euler_deg, translation, true_rt, atol=1e-6):\n",
    "    \"\"\"\n",
    "    将给定的欧拉角和位移，在多个顺序下转为外参矩阵，与 true_rt 比较。\n",
    "\n",
    "    参数：\n",
    "    - euler_deg: 欧拉角 [rx, ry, rz]，单位为度\n",
    "    - translation: 平移向量 [tx, ty, tz]\n",
    "    - true_rt: 真实的 4x4 外参矩阵\n",
    "    - atol: 判断矩阵是否相等的容差\n",
    "\n",
    "    返回：\n",
    "    - 匹配的顺序列表\n",
    "    \"\"\"\n",
    "    orders = ['xyz', 'zyx', 'yxz', 'zxy', 'xzy', 'yzx']\n",
    "    matches = []\n",
    "    for order in orders:\n",
    "        est_rt = euler_to_rt_matrix(euler_deg, translation, order)\n",
    "        if np.allclose(est_rt, true_rt, atol=atol):\n",
    "            matches.append(order)\n",
    "            print(f\"✅ 匹配顺序: {order}\")\n",
    "        else:\n",
    "            print(f\"❌ 不匹配顺序: {order}\")\n",
    "    return matches\n"
   ]
  },
  {
   "cell_type": "code",
   "execution_count": 23,
   "id": "837c5346",
   "metadata": {},
   "outputs": [
    {
     "name": "stdout",
     "output_type": "stream",
     "text": [
      "✅ 匹配顺序: xyz\n",
      "❌ 不匹配顺序: zyx\n",
      "❌ 不匹配顺序: yxz\n",
      "❌ 不匹配顺序: zxy\n",
      "❌ 不匹配顺序: xzy\n",
      "❌ 不匹配顺序: yzx\n",
      "\n",
      "可能正确的旋转顺序： ['xyz']\n"
     ]
    }
   ],
   "source": [
    "# 给定的欧拉角（单位：度）和位移\n",
    "euler_deg = [69.41797658585301, 179.8261575509262, 89.94677790440619]\n",
    "translation = [0.4672740459251404, -0.077, 0.91]\n",
    "\n",
    "# 构造一个“真实外参矩阵”（比如来自标定结果）\n",
    "true_rt = np.array([\n",
    "    [0.064544, -0.282915 ,0.956971 ,0.402355],\n",
    "    [-0.997827 ,-0.005597 ,0.065645 ,-0.072086],\n",
    "    [-0.013216 ,-0.959129 ,-0.282662, 0.877380],\n",
    "    [0,  0, 0, 1]\n",
    "])\n",
    "# 进行比较\n",
    "matches = compare_rt_with_all_orders(euler_deg, translation, true_rt,1e-1)\n",
    "print(\"\\n可能正确的旋转顺序：\", matches)\n"
   ]
  }
 ],
 "metadata": {
  "kernelspec": {
   "display_name": "py310_torch",
   "language": "python",
   "name": "python3"
  },
  "language_info": {
   "codemirror_mode": {
    "name": "ipython",
    "version": 3
   },
   "file_extension": ".py",
   "mimetype": "text/x-python",
   "name": "python",
   "nbconvert_exporter": "python",
   "pygments_lexer": "ipython3",
   "version": "3.10.4"
  }
 },
 "nbformat": 4,
 "nbformat_minor": 5
}
