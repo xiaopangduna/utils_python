{
 "cells": [
  {
   "cell_type": "markdown",
   "id": "39a3ffc6",
   "metadata": {},
   "source": [
    "# Pinhole Camera Calibration\n",
    "## 1. Introduction\n",
    "### 1.1 Why Calibration?\n",
    "\n",
    "### 1.2 How to Calibrate?\n",
    "### 1.3 Calibrate results and how to use them?\n",
    "## 2. Calibration principle\n",
    "### 2.1 \n",
    "## 3.Calibration process"
   ]
  },
  {
   "cell_type": "code",
   "execution_count": 10,
   "id": "9ac84668",
   "metadata": {},
   "outputs": [
    {
     "name": "stdout",
     "output_type": "stream",
     "text": [
      "['calibration_data/opencv_sample_data/left13.jpg', 'calibration_data/opencv_sample_data/left08.jpg', 'calibration_data/opencv_sample_data/left05.jpg', 'calibration_data/opencv_sample_data/left01.jpg', 'calibration_data/opencv_sample_data/left11.jpg', 'calibration_data/opencv_sample_data/left03.jpg', 'calibration_data/opencv_sample_data/left06.jpg', 'calibration_data/opencv_sample_data/left07.jpg', 'calibration_data/opencv_sample_data/left04.jpg', 'calibration_data/opencv_sample_data/left02.jpg', 'calibration_data/opencv_sample_data/left12.jpg', 'calibration_data/opencv_sample_data/left14.jpg', 'calibration_data/opencv_sample_data/left09.jpg']\n"
     ]
    }
   ],
   "source": [
    "import numpy as np\n",
    "import cv2 as cv\n",
    "import glob\n",
    "import matplotlib.pyplot as plt\n",
    "import os\n",
    "\n",
    "# termination criteria\n",
    "criteria = (cv.TERM_CRITERIA_EPS + cv.TERM_CRITERIA_MAX_ITER, 30, 0.001)\n",
    "\n",
    "# prepare object points, like (0,0,0), (1,0,0), (2,0,0) ....,(6,5,0)\n",
    "objp = np.zeros((6*7,3), np.float32)\n",
    "objp[:,:2] = np.mgrid[0:7,0:6].T.reshape(-1,2)\n",
    "\n",
    "# Arrays to store object points and image points from all the images.\n",
    "objpoints = [] # 3d point in real world space\n",
    "imgpoints = [] # 2d points in image plane.\n",
    "\n",
    "images = glob.glob('calibration_data/opencv_sample_data/left*.jpg')\n",
    "print(images)\n"
   ]
  },
  {
   "cell_type": "code",
   "execution_count": 12,
   "id": "1498b9de",
   "metadata": {},
   "outputs": [],
   "source": [
    "for i,fname in enumerate(images):\n",
    "\n",
    "    img = cv.imread(fname)\n",
    "    gray = cv.cvtColor(img, cv.COLOR_BGR2GRAY)\n",
    "\n",
    "    # Find the chess board corners\n",
    "    ret, corners = cv.findChessboardCorners(gray, (7,6), None)\n",
    "\n",
    "    # If found, add object points, image points (after refining them)\n",
    "    if ret == True:\n",
    "        objpoints.append(objp)\n",
    "\n",
    "        corners2 = cv.cornerSubPix(gray,corners, (11,11), (-1,-1), criteria)\n",
    "        imgpoints.append(corners2)\n",
    "\n",
    "        # Draw and display the corners\n",
    "        cv.drawChessboardCorners(img, (7,6), corners2, ret)\n",
    "        \n",
    "        # cv.imshow('img', img)\n",
    "        # cv.waitKey(500)\n",
    "        # cv.destroyAllWindows()\n",
    "        cv.imwrite(\"calibration_data/opencv_sample_data/\"+str(i+1)+'.jpg', img)\n",
    "\n",
    "        # # 转换颜色从 BGR 到 RGB，因为 OpenCV 使用 BGR 格式，而 matplotlib 使用 RGB\n",
    "        # image_rgb = cv.cvtColor(img, cv.COLOR_BGR2RGB)\n",
    "        # # 使用 matplotlib 显示图像\n",
    "        # plt.imshow(image_rgb)\n",
    "        # plt.axis('off')  # 不显示坐标轴\n",
    "        # plt.show()\n",
    "# cv.destroyAllWindows()"
   ]
  },
  {
   "cell_type": "code",
   "execution_count": 16,
   "id": "5559c4a0",
   "metadata": {},
   "outputs": [
    {
     "name": "stdout",
     "output_type": "stream",
     "text": [
      "42\n",
      "[[[300.66736  350.92874 ]]\n",
      "\n",
      " [[288.1165   325.6781  ]]\n",
      "\n",
      " [[275.791    298.81805 ]]\n",
      "\n",
      " [[261.79785  269.80862 ]]\n",
      "\n",
      " [[248.05641  239.62509 ]]\n",
      "\n",
      " [[233.0008   206.92723 ]]\n",
      "\n",
      " [[217.46024  172.23552 ]]\n",
      "\n",
      " [[331.7006   344.225   ]]\n",
      "\n",
      " [[321.02307  318.99838 ]]\n",
      "\n",
      " [[309.01877  290.95587 ]]\n",
      "\n",
      " [[296.43378  261.66263 ]]\n",
      "\n",
      " [[283.09103  230.15082 ]]\n",
      "\n",
      " [[268.70892  196.34387 ]]\n",
      "\n",
      " [[253.59319  160.58485 ]]\n",
      "\n",
      " [[365.26065  337.42664 ]]\n",
      "\n",
      " [[354.58194  311.00723 ]]\n",
      "\n",
      " [[343.8793   282.5702  ]]\n",
      "\n",
      " [[331.7146   252.3243  ]]\n",
      "\n",
      " [[319.64725  219.97707 ]]\n",
      "\n",
      " [[306.20053  185.59566 ]]\n",
      "\n",
      " [[292.4419   149.10506 ]]\n",
      "\n",
      " [[398.1472   329.42392 ]]\n",
      "\n",
      " [[389.0941   302.81833 ]]\n",
      "\n",
      " [[379.35495  273.79822 ]]\n",
      "\n",
      " [[368.87122  242.77551 ]]\n",
      "\n",
      " [[357.2025   209.89412 ]]\n",
      "\n",
      " [[344.77472  174.81343 ]]\n",
      "\n",
      " [[331.92804  137.13455 ]]\n",
      "\n",
      " [[432.3794   321.51923 ]]\n",
      "\n",
      " [[424.3185   294.14877 ]]\n",
      "\n",
      " [[415.52548  264.92874 ]]\n",
      "\n",
      " [[405.9928   233.22798 ]]\n",
      "\n",
      " [[395.82507  199.43097 ]]\n",
      "\n",
      " [[384.8827   163.29341 ]]\n",
      "\n",
      " [[372.54977  125.020744]]\n",
      "\n",
      " [[466.34528  313.42807 ]]\n",
      "\n",
      " [[459.53952  285.48926 ]]\n",
      "\n",
      " [[452.45343  255.52509 ]]\n",
      "\n",
      " [[443.80847  223.47296 ]]\n",
      "\n",
      " [[434.85062  189.06334 ]]\n",
      "\n",
      " [[425.02267  152.34396 ]]\n",
      "\n",
      " [[414.01892  113.077034]]]\n"
     ]
    }
   ],
   "source": [
    "fname = images[0]\n",
    "img = cv.imread(fname)\n",
    "gray = cv.cvtColor(img, cv.COLOR_BGR2GRAY)\n",
    "ret, corners = cv.findChessboardCorners(gray, (7,6), None)\n",
    "print(len(corners))\n",
    "print(corners)"
   ]
  },
  {
   "cell_type": "code",
   "execution_count": 17,
   "id": "d3158d86",
   "metadata": {},
   "outputs": [
    {
     "name": "stdout",
     "output_type": "stream",
     "text": [
      "[[0. 0. 0.]\n",
      " [1. 0. 0.]\n",
      " [2. 0. 0.]\n",
      " [3. 0. 0.]\n",
      " [4. 0. 0.]\n",
      " [5. 0. 0.]\n",
      " [6. 0. 0.]\n",
      " [0. 1. 0.]\n",
      " [1. 1. 0.]\n",
      " [2. 1. 0.]\n",
      " [3. 1. 0.]\n",
      " [4. 1. 0.]\n",
      " [5. 1. 0.]\n",
      " [6. 1. 0.]\n",
      " [0. 2. 0.]\n",
      " [1. 2. 0.]\n",
      " [2. 2. 0.]\n",
      " [3. 2. 0.]\n",
      " [4. 2. 0.]\n",
      " [5. 2. 0.]\n",
      " [6. 2. 0.]\n",
      " [0. 3. 0.]\n",
      " [1. 3. 0.]\n",
      " [2. 3. 0.]\n",
      " [3. 3. 0.]\n",
      " [4. 3. 0.]\n",
      " [5. 3. 0.]\n",
      " [6. 3. 0.]\n",
      " [0. 4. 0.]\n",
      " [1. 4. 0.]\n",
      " [2. 4. 0.]\n",
      " [3. 4. 0.]\n",
      " [4. 4. 0.]\n",
      " [5. 4. 0.]\n",
      " [6. 4. 0.]\n",
      " [0. 5. 0.]\n",
      " [1. 5. 0.]\n",
      " [2. 5. 0.]\n",
      " [3. 5. 0.]\n",
      " [4. 5. 0.]\n",
      " [5. 5. 0.]\n",
      " [6. 5. 0.]]\n"
     ]
    }
   ],
   "source": [
    "print(objp)"
   ]
  },
  {
   "cell_type": "code",
   "execution_count": 19,
   "id": "6f2e7aff",
   "metadata": {},
   "outputs": [
    {
     "name": "stdout",
     "output_type": "stream",
     "text": [
      "42\n",
      "[[[300.39896  351.02505 ]]\n",
      "\n",
      " [[288.34534  325.87054 ]]\n",
      "\n",
      " [[275.4507   298.93454 ]]\n",
      "\n",
      " [[261.91742  270.2276  ]]\n",
      "\n",
      " [[247.81902  239.51468 ]]\n",
      "\n",
      " [[233.05627  206.82187 ]]\n",
      "\n",
      " [[217.51735  172.2564  ]]\n",
      "\n",
      " [[332.15152  344.51605 ]]\n",
      "\n",
      " [[320.8534   318.8697  ]]\n",
      "\n",
      " [[308.8871   290.95316 ]]\n",
      "\n",
      " [[296.25604  261.47534 ]]\n",
      "\n",
      " [[282.85373  230.01167 ]]\n",
      "\n",
      " [[268.6935   196.43626 ]]\n",
      "\n",
      " [[253.8891   160.65057 ]]\n",
      "\n",
      " [[364.86426  337.2962  ]]\n",
      "\n",
      " [[354.66214  311.0731  ]]\n",
      "\n",
      " [[343.66284  282.5844  ]]\n",
      "\n",
      " [[331.91318  252.43439 ]]\n",
      "\n",
      " [[319.5241   219.97514 ]]\n",
      "\n",
      " [[306.24716  185.598   ]]\n",
      "\n",
      " [[292.2811   148.7122  ]]\n",
      "\n",
      " [[398.34183  329.61322 ]]\n",
      "\n",
      " [[389.17358  302.77057 ]]\n",
      "\n",
      " [[379.3906   273.89566 ]]\n",
      "\n",
      " [[368.57544  242.93405 ]]\n",
      "\n",
      " [[357.27847  209.76617 ]]\n",
      "\n",
      " [[344.9039   174.39655 ]]\n",
      "\n",
      " [[331.88586  136.9367  ]]\n",
      "\n",
      " [[432.2574   321.65695 ]]\n",
      "\n",
      " [[424.35254  294.18613 ]]\n",
      "\n",
      " [[415.62024  264.70776 ]]\n",
      "\n",
      " [[406.15884  233.1491  ]]\n",
      "\n",
      " [[395.8562   199.32028 ]]\n",
      "\n",
      " [[384.6924   163.2047  ]]\n",
      "\n",
      " [[372.687    124.82221 ]]\n",
      "\n",
      " [[466.5723   313.35403 ]]\n",
      "\n",
      " [[459.75443  285.36102 ]]\n",
      "\n",
      " [[452.41153  255.395   ]]\n",
      "\n",
      " [[444.10852  223.22177 ]]\n",
      "\n",
      " [[435.06393  188.84712 ]]\n",
      "\n",
      " [[425.07098  152.03345 ]]\n",
      "\n",
      " [[414.14203  113.069275]]]\n"
     ]
    }
   ],
   "source": [
    "corners2 = cv.cornerSubPix(gray,corners, (11,11), (-1,-1), criteria)\n",
    "print(len(corners2))\n",
    "print(corners2)"
   ]
  },
  {
   "cell_type": "code",
   "execution_count": 3,
   "id": "cf1987f3",
   "metadata": {},
   "outputs": [],
   "source": [
    "ret, mtx, dist, rvecs, tvecs = cv.calibrateCamera(objpoints, imgpoints, gray.shape[::-1], None, None)"
   ]
  },
  {
   "cell_type": "code",
   "execution_count": 20,
   "id": "54dd25cc",
   "metadata": {},
   "outputs": [
    {
     "name": "stdout",
     "output_type": "stream",
     "text": [
      "[[534.07088364   0.         341.53407554]\n",
      " [  0.         534.11914595 232.94565259]\n",
      " [  0.           0.           1.        ]]\n"
     ]
    }
   ],
   "source": [
    "print(mtx)"
   ]
  },
  {
   "cell_type": "code",
   "execution_count": 21,
   "id": "603c05aa",
   "metadata": {},
   "outputs": [
    {
     "name": "stdout",
     "output_type": "stream",
     "text": [
      "[[-2.92971637e-01  1.07706962e-01  1.31038376e-03 -3.11018780e-05\n",
      "   4.34798110e-02]]\n"
     ]
    }
   ],
   "source": [
    "print(dist)"
   ]
  },
  {
   "cell_type": "code",
   "execution_count": 22,
   "id": "a5123ad4",
   "metadata": {},
   "outputs": [
    {
     "name": "stdout",
     "output_type": "stream",
     "text": [
      "(array([[ 0.30697385],\n",
      "       [ 0.5038552 ],\n",
      "       [-1.82824733]]), array([[-0.45883216],\n",
      "       [-0.08848877],\n",
      "       [-1.33510786]]), array([[-0.45993978],\n",
      "       [-0.3142018 ],\n",
      "       [-1.76122223]]), array([[-0.43239599],\n",
      "       [ 0.25603401],\n",
      "       [-3.08832021]]), array([[-0.2645143 ],\n",
      "       [-0.39360849],\n",
      "       [-2.74787379]]), array([[-0.29979221],\n",
      "       [ 0.39216377],\n",
      "       [-1.4348239 ]]), array([[-0.32034625],\n",
      "       [ 0.1597993 ],\n",
      "       [-1.24149595]]), array([[-0.37843358],\n",
      "       [-0.18064237],\n",
      "       [-3.11615996]]), array([[ 0.41531697],\n",
      "       [ 0.65664497],\n",
      "       [-1.3373494 ]]), array([[-0.35367631],\n",
      "       [-0.24363035],\n",
      "       [-1.56874295]]), array([[-0.17288944],\n",
      "       [-0.46764681],\n",
      "       [ 1.34745198]]))\n"
     ]
    }
   ],
   "source": [
    "print(rvecs)"
   ]
  },
  {
   "cell_type": "code",
   "execution_count": 23,
   "id": "37c22259",
   "metadata": {},
   "outputs": [
    {
     "name": "stdout",
     "output_type": "stream",
     "text": [
      "(array([[-1.22339632],\n",
      "       [ 3.52139948],\n",
      "       [15.67311789]]), array([[-3.27916485],\n",
      "       [ 2.15811689],\n",
      "       [11.72833343]]), array([[-1.13991523],\n",
      "       [ 2.67424464],\n",
      "       [ 9.56289277]]), array([[ 3.79739146],\n",
      "       [ 0.89895018],\n",
      "       [14.8593055 ]]), array([[3.03685642],\n",
      "       [2.74656588],\n",
      "       [9.90005138]]), array([[ 1.60364763],\n",
      "       [ 3.81296375],\n",
      "       [16.12054474]]), array([[-5.94286695],\n",
      "       [ 2.39629427],\n",
      "       [16.77859026]]), array([[ 2.82321756],\n",
      "       [ 2.22374307],\n",
      "       [10.95762951]]), array([[-2.12419184],\n",
      "       [ 1.84550818],\n",
      "       [12.81229187]]), array([[-2.89985494],\n",
      "       [ 2.62066993],\n",
      "       [10.57699258]]), array([[ 1.81888151],\n",
      "       [-4.2642919 ],\n",
      "       [12.45728517]]))\n"
     ]
    }
   ],
   "source": [
    "print(tvecs )"
   ]
  },
  {
   "cell_type": "code",
   "execution_count": 4,
   "id": "e917285a",
   "metadata": {},
   "outputs": [],
   "source": [
    "img = cv.imread('calibration_data/opencv_sample_data/left12.jpg')\n",
    "h,  w = img.shape[:2]\n",
    "newcameramtx, roi = cv.getOptimalNewCameraMatrix(mtx, dist, (w,h), 1, (w,h))"
   ]
  },
  {
   "cell_type": "code",
   "execution_count": 5,
   "id": "a831784c",
   "metadata": {},
   "outputs": [
    {
     "data": {
      "text/plain": [
       "True"
      ]
     },
     "execution_count": 5,
     "metadata": {},
     "output_type": "execute_result"
    }
   ],
   "source": [
    "# undistort\n",
    "dst = cv.undistort(img, mtx, dist, None, newcameramtx)\n",
    "\n",
    "# crop the image\n",
    "x, y, w, h = roi\n",
    "dst = dst[y:y+h, x:x+w]\n",
    "cv.imwrite('calibresult.png', dst)"
   ]
  },
  {
   "cell_type": "code",
   "execution_count": 6,
   "id": "f0b530ca",
   "metadata": {},
   "outputs": [
    {
     "data": {
      "text/plain": [
       "True"
      ]
     },
     "execution_count": 6,
     "metadata": {},
     "output_type": "execute_result"
    }
   ],
   "source": [
    "# undistort\n",
    "mapx, mapy = cv.initUndistortRectifyMap(mtx, dist, None, newcameramtx, (w,h), 5)\n",
    "dst = cv.remap(img, mapx, mapy, cv.INTER_LINEAR)\n",
    "\n",
    "# crop the image\n",
    "x, y, w, h = roi\n",
    "dst = dst[y:y+h, x:x+w]\n",
    "cv.imwrite('calibresult.png', dst)"
   ]
  },
  {
   "cell_type": "code",
   "execution_count": 7,
   "id": "e56ca896",
   "metadata": {},
   "outputs": [
    {
     "name": "stdout",
     "output_type": "stream",
     "text": [
      "total error: 0.023686000375385673\n"
     ]
    }
   ],
   "source": [
    "mean_error = 0\n",
    "for i in range(len(objpoints)):\n",
    "    imgpoints2, _ = cv.projectPoints(objpoints[i], rvecs[i], tvecs[i], mtx, dist)\n",
    "    error = cv.norm(imgpoints[i], imgpoints2, cv.NORM_L2)/len(imgpoints2)\n",
    "    mean_error += error\n",
    "\n",
    "print( \"total error: {}\".format(mean_error/len(objpoints)) )"
   ]
  }
 ],
 "metadata": {
  "kernelspec": {
   "display_name": "py310_utils",
   "language": "python",
   "name": "python3"
  },
  "language_info": {
   "codemirror_mode": {
    "name": "ipython",
    "version": 3
   },
   "file_extension": ".py",
   "mimetype": "text/x-python",
   "name": "python",
   "nbconvert_exporter": "python",
   "pygments_lexer": "ipython3",
   "version": "3.10.16"
  }
 },
 "nbformat": 4,
 "nbformat_minor": 5
}
