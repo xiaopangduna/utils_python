{
 "cells": [
  {
   "cell_type": "markdown",
   "id": "39a3ffc6",
   "metadata": {},
   "source": [
    "# Pinhole Camera Calibration\n",
    "## 1. Introduction\n",
    "### 1.1 Why Calibration?\n",
    "\n",
    "### 1.2 How to Calibrate?\n",
    "### 1.3 Calibrate results and how to use them?\n",
    "## 2. Calibration principle\n",
    "### 2.1 \n",
    "## 3.Calibration process"
   ]
  },
  {
   "cell_type": "code",
   "execution_count": 1,
   "id": "9ac84668",
   "metadata": {},
   "outputs": [
    {
     "name": "stdout",
     "output_type": "stream",
     "text": [
      "['calibration_data/opencv_sample_data/left01.jpg', 'calibration_data/opencv_sample_data/left02.jpg', 'calibration_data/opencv_sample_data/left03.jpg', 'calibration_data/opencv_sample_data/left04.jpg', 'calibration_data/opencv_sample_data/left05.jpg', 'calibration_data/opencv_sample_data/left06.jpg', 'calibration_data/opencv_sample_data/left07.jpg', 'calibration_data/opencv_sample_data/left08.jpg', 'calibration_data/opencv_sample_data/left09.jpg', 'calibration_data/opencv_sample_data/left11.jpg', 'calibration_data/opencv_sample_data/left12.jpg', 'calibration_data/opencv_sample_data/left13.jpg', 'calibration_data/opencv_sample_data/left14.jpg']\n"
     ]
    }
   ],
   "source": [
    "import numpy as np\n",
    "import cv2 as cv\n",
    "import glob\n",
    "import matplotlib.pyplot as plt\n",
    "import os\n",
    "\n",
    "# termination criteria\n",
    "criteria = (cv.TERM_CRITERIA_EPS + cv.TERM_CRITERIA_MAX_ITER, 30, 0.001)\n",
    "\n",
    "# prepare object points, like (0,0,0), (1,0,0), (2,0,0) ....,(6,5,0)\n",
    "objp = np.zeros((6*7,3), np.float32)\n",
    "objp[:,:2] = np.mgrid[0:7,0:6].T.reshape(-1,2)\n",
    "\n",
    "# Arrays to store object points and image points from all the images.\n",
    "objpoints = [] # 3d point in real world space\n",
    "imgpoints = [] # 2d points in image plane.\n",
    "\n",
    "images = glob.glob('calibration_data/opencv_sample_data/left*.jpg')\n",
    "images = sorted(images)\n",
    "print(images)\n"
   ]
  },
  {
   "cell_type": "code",
   "execution_count": 2,
   "id": "1498b9de",
   "metadata": {},
   "outputs": [],
   "source": [
    "for i,fname in enumerate(images):\n",
    "\n",
    "    img = cv.imread(fname)\n",
    "    gray = cv.cvtColor(img, cv.COLOR_BGR2GRAY)\n",
    "\n",
    "    # Find the chess board corners\n",
    "    ret, corners = cv.findChessboardCorners(gray, (7,6), None)\n",
    "\n",
    "    # If found, add object points, image points (after refining them)\n",
    "    if ret == True:\n",
    "        objpoints.append(objp)\n",
    "\n",
    "        corners2 = cv.cornerSubPix(gray,corners, (11,11), (-1,-1), criteria)\n",
    "        imgpoints.append(corners2)\n",
    "\n",
    "        # Draw and display the corners\n",
    "        cv.drawChessboardCorners(img, (7,6), corners2, ret)\n",
    "        \n",
    "        # cv.imshow('img', img)\n",
    "        # cv.waitKey(500)\n",
    "        # cv.destroyAllWindows()\n",
    "        cv.imwrite(\"calibration_data/opencv_sample_data/\"+str(i+1)+'.jpg', img)\n",
    "\n",
    "        # # 转换颜色从 BGR 到 RGB，因为 OpenCV 使用 BGR 格式，而 matplotlib 使用 RGB\n",
    "        # image_rgb = cv.cvtColor(img, cv.COLOR_BGR2RGB)\n",
    "        # # 使用 matplotlib 显示图像\n",
    "        # plt.imshow(image_rgb)\n",
    "        # plt.axis('off')  # 不显示坐标轴\n",
    "        # plt.show()\n",
    "# cv.destroyAllWindows()"
   ]
  },
  {
   "cell_type": "code",
   "execution_count": null,
   "id": "5559c4a0",
   "metadata": {},
   "outputs": [
    {
     "name": "stdout",
     "output_type": "stream",
     "text": [
      "calibration_data/opencv_sample_data/left01.jpg\n",
      "42\n",
      "[[[475.46497  264.59277 ]]\n",
      "\n",
      " [[440.46597  263.34772 ]]\n",
      "\n",
      " [[406.10455  261.65866 ]]\n",
      "\n",
      " [[372.7524   259.79944 ]]\n",
      "\n",
      " [[340.35718  258.2445  ]]\n",
      "\n",
      " [[308.5867   256.48032 ]]\n",
      "\n",
      " [[277.62714  255.30826 ]]\n",
      "\n",
      " [[476.7286   230.09175 ]]\n",
      "\n",
      " [[441.20877  228.56682 ]]\n",
      "\n",
      " [[406.42606  227.53233 ]]\n",
      "\n",
      " [[372.9427   226.42447 ]]\n",
      "\n",
      " [[339.5496   225.21759 ]]\n",
      "\n",
      " [[307.43317  224.24355 ]]\n",
      "\n",
      " [[276.82333  223.436   ]]\n",
      "\n",
      " [[477.29578  194.28926 ]]\n",
      "\n",
      " [[441.69385  193.79532 ]]\n",
      "\n",
      " [[406.95166  192.44704 ]]\n",
      "\n",
      " [[372.37253  191.89107 ]]\n",
      "\n",
      " [[339.1837   191.57596 ]]\n",
      "\n",
      " [[307.2744   191.09702 ]]\n",
      "\n",
      " [[275.79642  190.63934 ]]\n",
      "\n",
      " [[477.46838  158.28636 ]]\n",
      "\n",
      " [[442.083    157.73778 ]]\n",
      "\n",
      " [[406.68497  157.56912 ]]\n",
      "\n",
      " [[372.35477  157.37575 ]]\n",
      "\n",
      " [[338.70758  157.42206 ]]\n",
      "\n",
      " [[306.42056  157.61996 ]]\n",
      "\n",
      " [[275.37076  158.37704 ]]\n",
      "\n",
      " [[477.86743  122.10533 ]]\n",
      "\n",
      " [[441.9587   122.0216  ]]\n",
      "\n",
      " [[406.60403  122.157845]]\n",
      "\n",
      " [[372.09393  122.12903 ]]\n",
      "\n",
      " [[338.71494  123.26513 ]]\n",
      "\n",
      " [[306.04443  124.03228 ]]\n",
      "\n",
      " [[274.9684   124.752304]]\n",
      "\n",
      " [[477.623     86.3797  ]]\n",
      "\n",
      " [[441.63345   86.37207 ]]\n",
      "\n",
      " [[406.84354   86.916374]]\n",
      "\n",
      " [[371.59216   87.98364 ]]\n",
      "\n",
      " [[338.36407   88.836266]]\n",
      "\n",
      " [[305.49387   90.402885]]\n",
      "\n",
      " [[274.6154    92.15629 ]]]\n"
     ]
    }
   ],
   "source": [
    "fname = images[0]\n",
    "print(fname)\n"
   ]
  },
  {
   "cell_type": "code",
   "execution_count": null,
   "id": "274551aa",
   "metadata": {},
   "outputs": [
    {
     "name": "stdout",
     "output_type": "stream",
     "text": [
      "[[[ 0  0  0]\n",
      "  [ 2  2  2]\n",
      "  [ 4  4  4]\n",
      "  ...\n",
      "  [ 0  0  0]\n",
      "  [ 0  0  0]\n",
      "  [ 0  0  0]]\n",
      "\n",
      " [[ 1  1  1]\n",
      "  [ 2  2  2]\n",
      "  [ 4  4  4]\n",
      "  ...\n",
      "  [ 4  4  4]\n",
      "  [ 3  3  3]\n",
      "  [ 6  6  6]]\n",
      "\n",
      " [[ 1  1  1]\n",
      "  [ 3  3  3]\n",
      "  [ 4  4  4]\n",
      "  ...\n",
      "  [ 6  6  6]\n",
      "  [ 5  5  5]\n",
      "  [ 3  3  3]]\n",
      "\n",
      " ...\n",
      "\n",
      " [[ 7  7  7]\n",
      "  [38 38 38]\n",
      "  [44 44 44]\n",
      "  ...\n",
      "  [56 56 56]\n",
      "  [47 47 47]\n",
      "  [11 11 11]]\n",
      "\n",
      " [[ 6  6  6]\n",
      "  [35 35 35]\n",
      "  [38 38 38]\n",
      "  ...\n",
      "  [43 43 43]\n",
      "  [40 40 40]\n",
      "  [ 8  8  8]]\n",
      "\n",
      " [[ 0  0  0]\n",
      "  [12 12 12]\n",
      "  [13 13 13]\n",
      "  ...\n",
      "  [12 12 12]\n",
      "  [14 14 14]\n",
      "  [ 0  0  0]]]\n"
     ]
    }
   ],
   "source": [
    "img = cv.imread(fname)\n",
    "print(img)\n"
   ]
  },
  {
   "cell_type": "code",
   "execution_count": null,
   "id": "7a3db39b",
   "metadata": {},
   "outputs": [
    {
     "name": "stdout",
     "output_type": "stream",
     "text": [
      "[[ 0  2  4 ...  0  0  0]\n",
      " [ 1  2  4 ...  4  3  6]\n",
      " [ 1  3  4 ...  6  5  3]\n",
      " ...\n",
      " [ 7 38 44 ... 56 47 11]\n",
      " [ 6 35 38 ... 43 40  8]\n",
      " [ 0 12 13 ... 12 14  0]]\n"
     ]
    }
   ],
   "source": [
    "gray = cv.cvtColor(img, cv.COLOR_BGR2GRAY)\n",
    "print(gray)\n"
   ]
  },
  {
   "cell_type": "code",
   "execution_count": 14,
   "id": "6ceb99a1",
   "metadata": {},
   "outputs": [
    {
     "name": "stdout",
     "output_type": "stream",
     "text": [
      "42\n",
      "[[[475.46497  264.59277 ]]\n",
      "\n",
      " [[440.46597  263.34772 ]]\n",
      "\n",
      " [[406.10455  261.65866 ]]\n",
      "\n",
      " [[372.7524   259.79944 ]]\n",
      "\n",
      " [[340.35718  258.2445  ]]\n",
      "\n",
      " [[308.5867   256.48032 ]]\n",
      "\n",
      " [[277.62714  255.30826 ]]\n",
      "\n",
      " [[476.7286   230.09175 ]]\n",
      "\n",
      " [[441.20877  228.56682 ]]\n",
      "\n",
      " [[406.42606  227.53233 ]]\n",
      "\n",
      " [[372.9427   226.42447 ]]\n",
      "\n",
      " [[339.5496   225.21759 ]]\n",
      "\n",
      " [[307.43317  224.24355 ]]\n",
      "\n",
      " [[276.82333  223.436   ]]\n",
      "\n",
      " [[477.29578  194.28926 ]]\n",
      "\n",
      " [[441.69385  193.79532 ]]\n",
      "\n",
      " [[406.95166  192.44704 ]]\n",
      "\n",
      " [[372.37253  191.89107 ]]\n",
      "\n",
      " [[339.1837   191.57596 ]]\n",
      "\n",
      " [[307.2744   191.09702 ]]\n",
      "\n",
      " [[275.79642  190.63934 ]]\n",
      "\n",
      " [[477.46838  158.28636 ]]\n",
      "\n",
      " [[442.083    157.73778 ]]\n",
      "\n",
      " [[406.68497  157.56912 ]]\n",
      "\n",
      " [[372.35477  157.37575 ]]\n",
      "\n",
      " [[338.70758  157.42206 ]]\n",
      "\n",
      " [[306.42056  157.61996 ]]\n",
      "\n",
      " [[275.37076  158.37704 ]]\n",
      "\n",
      " [[477.86743  122.10533 ]]\n",
      "\n",
      " [[441.9587   122.0216  ]]\n",
      "\n",
      " [[406.60403  122.157845]]\n",
      "\n",
      " [[372.09393  122.12903 ]]\n",
      "\n",
      " [[338.71494  123.26513 ]]\n",
      "\n",
      " [[306.04443  124.03228 ]]\n",
      "\n",
      " [[274.9684   124.752304]]\n",
      "\n",
      " [[477.623     86.3797  ]]\n",
      "\n",
      " [[441.63345   86.37207 ]]\n",
      "\n",
      " [[406.84354   86.916374]]\n",
      "\n",
      " [[371.59216   87.98364 ]]\n",
      "\n",
      " [[338.36407   88.836266]]\n",
      "\n",
      " [[305.49387   90.402885]]\n",
      "\n",
      " [[274.6154    92.15629 ]]]\n"
     ]
    }
   ],
   "source": [
    "ret, corners = cv.findChessboardCorners(gray, (7,6), None)\n",
    "print(len(corners))\n",
    "print(corners)"
   ]
  },
  {
   "cell_type": "code",
   "execution_count": 4,
   "id": "d3158d86",
   "metadata": {},
   "outputs": [
    {
     "name": "stdout",
     "output_type": "stream",
     "text": [
      "[[0. 0. 0.]\n",
      " [1. 0. 0.]\n",
      " [2. 0. 0.]\n",
      " [3. 0. 0.]\n",
      " [4. 0. 0.]\n",
      " [5. 0. 0.]\n",
      " [6. 0. 0.]\n",
      " [0. 1. 0.]\n",
      " [1. 1. 0.]\n",
      " [2. 1. 0.]\n",
      " [3. 1. 0.]\n",
      " [4. 1. 0.]\n",
      " [5. 1. 0.]\n",
      " [6. 1. 0.]\n",
      " [0. 2. 0.]\n",
      " [1. 2. 0.]\n",
      " [2. 2. 0.]\n",
      " [3. 2. 0.]\n",
      " [4. 2. 0.]\n",
      " [5. 2. 0.]\n",
      " [6. 2. 0.]\n",
      " [0. 3. 0.]\n",
      " [1. 3. 0.]\n",
      " [2. 3. 0.]\n",
      " [3. 3. 0.]\n",
      " [4. 3. 0.]\n",
      " [5. 3. 0.]\n",
      " [6. 3. 0.]\n",
      " [0. 4. 0.]\n",
      " [1. 4. 0.]\n",
      " [2. 4. 0.]\n",
      " [3. 4. 0.]\n",
      " [4. 4. 0.]\n",
      " [5. 4. 0.]\n",
      " [6. 4. 0.]\n",
      " [0. 5. 0.]\n",
      " [1. 5. 0.]\n",
      " [2. 5. 0.]\n",
      " [3. 5. 0.]\n",
      " [4. 5. 0.]\n",
      " [5. 5. 0.]\n",
      " [6. 5. 0.]]\n"
     ]
    }
   ],
   "source": [
    "print(objp)"
   ]
  },
  {
   "cell_type": "code",
   "execution_count": 5,
   "id": "6f2e7aff",
   "metadata": {},
   "outputs": [
    {
     "name": "stdout",
     "output_type": "stream",
     "text": [
      "42\n",
      "[[[254.3047  308.90814]]\n",
      "\n",
      " [[253.28555 280.3951 ]]\n",
      "\n",
      " [[252.6328  248.56088]]\n",
      "\n",
      " [[251.75056 212.81516]]\n",
      "\n",
      " [[251.25952 172.68323]]\n",
      "\n",
      " [[251.0968  127.98352]]\n",
      "\n",
      " [[251.46336  78.19004]]\n",
      "\n",
      " [[293.6344  318.09045]]\n",
      "\n",
      " [[295.14844 289.76086]]\n",
      "\n",
      " [[296.85318 258.06537]]\n",
      "\n",
      " [[298.76303 222.35841]]\n",
      "\n",
      " [[301.10803 182.12656]]\n",
      "\n",
      " [[303.75592 136.99808]]\n",
      "\n",
      " [[307.06628  86.7118 ]]\n",
      "\n",
      " [[334.24542 327.16162]]\n",
      "\n",
      " [[338.0707  299.22272]]\n",
      "\n",
      " [[342.2667  267.76385]]\n",
      "\n",
      " [[347.08716 232.24538]]\n",
      "\n",
      " [[352.37762 192.20969]]\n",
      "\n",
      " [[358.42426 146.96033]]\n",
      "\n",
      " [[365.12714  96.77871]]\n",
      "\n",
      " [[375.2773  336.1042 ]]\n",
      "\n",
      " [[381.5933  308.35605]]\n",
      "\n",
      " [[388.45346 277.45508]]\n",
      "\n",
      " [[396.13586 242.3363 ]]\n",
      "\n",
      " [[404.6047  202.72343]]\n",
      "\n",
      " [[413.96667 157.7573 ]]\n",
      "\n",
      " [[424.13235 107.84622]]\n",
      "\n",
      " [[416.4308  344.54428]]\n",
      "\n",
      " [[425.23926 317.36096]]\n",
      "\n",
      " [[434.80084 286.7783 ]]\n",
      "\n",
      " [[445.2837  252.39128]]\n",
      "\n",
      " [[456.84183 213.54738]]\n",
      "\n",
      " [[469.5197  169.35127]]\n",
      "\n",
      " [[483.13724 120.09361]]\n",
      "\n",
      " [[456.9843  352.4336 ]]\n",
      "\n",
      " [[468.08008 325.7758 ]]\n",
      "\n",
      " [[480.23    296.07745]]\n",
      "\n",
      " [[493.46832 262.40375]]\n",
      "\n",
      " [[507.86008 224.14752]]\n",
      "\n",
      " [[523.48865 181.12685]]\n",
      "\n",
      " [[540.10144 133.09557]]]\n"
     ]
    }
   ],
   "source": [
    "corners2 = cv.cornerSubPix(gray,corners, (11,11), (-1,-1), criteria)\n",
    "print(len(corners2))\n",
    "print(corners2)"
   ]
  },
  {
   "cell_type": "code",
   "execution_count": 6,
   "id": "ad989e6c",
   "metadata": {},
   "outputs": [
    {
     "data": {
      "text/plain": [
       "(640, 480)"
      ]
     },
     "execution_count": 6,
     "metadata": {},
     "output_type": "execute_result"
    }
   ],
   "source": [
    "gray.shape[::-1]"
   ]
  },
  {
   "cell_type": "code",
   "execution_count": 8,
   "id": "cf1987f3",
   "metadata": {},
   "outputs": [],
   "source": [
    "ret, mtx, dist, rvecs, tvecs = cv.calibrateCamera(objpoints, imgpoints, gray.shape[::-1], None, None)"
   ]
  },
  {
   "cell_type": "code",
   "execution_count": 9,
   "id": "54dd25cc",
   "metadata": {},
   "outputs": [
    {
     "name": "stdout",
     "output_type": "stream",
     "text": [
      "[[534.07088364   0.         341.53407552]\n",
      " [  0.         534.11914595 232.9456526 ]\n",
      " [  0.           0.           1.        ]]\n"
     ]
    }
   ],
   "source": [
    "print(mtx)"
   ]
  },
  {
   "cell_type": "code",
   "execution_count": 10,
   "id": "603c05aa",
   "metadata": {},
   "outputs": [
    {
     "name": "stdout",
     "output_type": "stream",
     "text": [
      "[[-2.92971637e-01  1.07706962e-01  1.31038377e-03 -3.11018812e-05\n",
      "   4.34798104e-02]]\n"
     ]
    }
   ],
   "source": [
    "print(dist)"
   ]
  },
  {
   "cell_type": "code",
   "execution_count": null,
   "id": "a5123ad4",
   "metadata": {},
   "outputs": [
    {
     "name": "stdout",
     "output_type": "stream",
     "text": [
      "(array([[ 0.30697385],\n",
      "       [ 0.5038552 ],\n",
      "       [-1.82824733]]), array([[-0.45883216],\n",
      "       [-0.08848877],\n",
      "       [-1.33510786]]), array([[-0.45993978],\n",
      "       [-0.3142018 ],\n",
      "       [-1.76122223]]), array([[-0.43239599],\n",
      "       [ 0.25603401],\n",
      "       [-3.08832021]]), array([[-0.2645143 ],\n",
      "       [-0.39360849],\n",
      "       [-2.74787379]]), array([[-0.29979221],\n",
      "       [ 0.39216377],\n",
      "       [-1.4348239 ]]), array([[-0.32034625],\n",
      "       [ 0.1597993 ],\n",
      "       [-1.24149595]]), array([[-0.37843358],\n",
      "       [-0.18064237],\n",
      "       [-3.11615996]]), array([[ 0.41531697],\n",
      "       [ 0.65664497],\n",
      "       [-1.3373494 ]]), array([[-0.35367631],\n",
      "       [-0.24363035],\n",
      "       [-1.56874295]]), array([[-0.17288944],\n",
      "       [-0.46764681],\n",
      "       [ 1.34745198]]))\n"
     ]
    }
   ],
   "source": [
    "print(rvecs)"
   ]
  },
  {
   "cell_type": "code",
   "execution_count": null,
   "id": "37c22259",
   "metadata": {},
   "outputs": [
    {
     "name": "stdout",
     "output_type": "stream",
     "text": [
      "(array([[-1.22339632],\n",
      "       [ 3.52139948],\n",
      "       [15.67311789]]), array([[-3.27916485],\n",
      "       [ 2.15811689],\n",
      "       [11.72833343]]), array([[-1.13991523],\n",
      "       [ 2.67424464],\n",
      "       [ 9.56289277]]), array([[ 3.79739146],\n",
      "       [ 0.89895018],\n",
      "       [14.8593055 ]]), array([[3.03685642],\n",
      "       [2.74656588],\n",
      "       [9.90005138]]), array([[ 1.60364763],\n",
      "       [ 3.81296375],\n",
      "       [16.12054474]]), array([[-5.94286695],\n",
      "       [ 2.39629427],\n",
      "       [16.77859026]]), array([[ 2.82321756],\n",
      "       [ 2.22374307],\n",
      "       [10.95762951]]), array([[-2.12419184],\n",
      "       [ 1.84550818],\n",
      "       [12.81229187]]), array([[-2.89985494],\n",
      "       [ 2.62066993],\n",
      "       [10.57699258]]), array([[ 1.81888151],\n",
      "       [-4.2642919 ],\n",
      "       [12.45728517]]))\n"
     ]
    }
   ],
   "source": [
    "print(tvecs )"
   ]
  },
  {
   "cell_type": "code",
   "execution_count": null,
   "id": "e917285a",
   "metadata": {},
   "outputs": [],
   "source": [
    "img = cv.imread('calibration_data/opencv_sample_data/left12.jpg')\n",
    "h,  w = img.shape[:2]\n",
    "newcameramtx, roi = cv.getOptimalNewCameraMatrix(mtx, dist, (w,h), 1, (w,h))"
   ]
  },
  {
   "cell_type": "code",
   "execution_count": null,
   "id": "a831784c",
   "metadata": {},
   "outputs": [
    {
     "data": {
      "text/plain": [
       "True"
      ]
     },
     "execution_count": 5,
     "metadata": {},
     "output_type": "execute_result"
    }
   ],
   "source": [
    "# undistort\n",
    "dst = cv.undistort(img, mtx, dist, None, newcameramtx)\n",
    "\n",
    "# crop the image\n",
    "x, y, w, h = roi\n",
    "dst = dst[y:y+h, x:x+w]\n",
    "cv.imwrite('calibresult.png', dst)"
   ]
  },
  {
   "cell_type": "code",
   "execution_count": null,
   "id": "f0b530ca",
   "metadata": {},
   "outputs": [
    {
     "data": {
      "text/plain": [
       "True"
      ]
     },
     "execution_count": 6,
     "metadata": {},
     "output_type": "execute_result"
    }
   ],
   "source": [
    "# undistort\n",
    "mapx, mapy = cv.initUndistortRectifyMap(mtx, dist, None, newcameramtx, (w,h), 5)\n",
    "dst = cv.remap(img, mapx, mapy, cv.INTER_LINEAR)\n",
    "\n",
    "# crop the image\n",
    "x, y, w, h = roi\n",
    "dst = dst[y:y+h, x:x+w]\n",
    "cv.imwrite('calibresult.png', dst)"
   ]
  },
  {
   "cell_type": "code",
   "execution_count": null,
   "id": "e56ca896",
   "metadata": {},
   "outputs": [
    {
     "name": "stdout",
     "output_type": "stream",
     "text": [
      "total error: 0.023686000375385673\n"
     ]
    }
   ],
   "source": [
    "mean_error = 0\n",
    "for i in range(len(objpoints)):\n",
    "    imgpoints2, _ = cv.projectPoints(objpoints[i], rvecs[i], tvecs[i], mtx, dist)\n",
    "    error = cv.norm(imgpoints[i], imgpoints2, cv.NORM_L2)/len(imgpoints2)\n",
    "    mean_error += error\n",
    "\n",
    "print( \"total error: {}\".format(mean_error/len(objpoints)) )"
   ]
  }
 ],
 "metadata": {
  "kernelspec": {
   "display_name": "py310_utils",
   "language": "python",
   "name": "python3"
  },
  "language_info": {
   "codemirror_mode": {
    "name": "ipython",
    "version": 3
   },
   "file_extension": ".py",
   "mimetype": "text/x-python",
   "name": "python",
   "nbconvert_exporter": "python",
   "pygments_lexer": "ipython3",
   "version": "3.10.16"
  }
 },
 "nbformat": 4,
 "nbformat_minor": 5
}
